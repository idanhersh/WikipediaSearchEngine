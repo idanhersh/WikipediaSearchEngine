{
 "cells": [
  {
   "cell_type": "code",
   "execution_count": null,
   "outputs": [],
   "source": [
    "# if the following command generates an error, you probably didn't enable \n",
    "# the cluster security option \"Allow API access to all Google Cloud services\"\n",
    "# under Manage Security → Project Access when setting up the cluster\n",
    "!gcloud dataproc clusters list --region us-central1"
   ],
   "metadata": {
    "collapsed": false,
    "pycharm": {
     "name": "#%%\n"
    }
   }
  },
  {
   "cell_type": "markdown",
   "source": [
    "# Imports & Setup"
   ],
   "metadata": {
    "collapsed": false
   }
  },
  {
   "cell_type": "code",
   "execution_count": null,
   "outputs": [],
   "source": [
    "!pip install -q google-cloud-storage==1.43.0\n",
    "!pip install -q graphframes"
   ],
   "metadata": {
    "collapsed": false,
    "pycharm": {
     "name": "#%%\n"
    }
   }
  },
  {
   "cell_type": "code",
   "execution_count": null,
   "outputs": [],
   "source": [
    "import pyspark\n",
    "import sys\n",
    "from collections import Counter, OrderedDict, defaultdict\n",
    "import itertools\n",
    "from itertools import islice, count, groupby\n",
    "import pandas as pd\n",
    "import os\n",
    "import re\n",
    "from operator import itemgetter\n",
    "import nltk\n",
    "from nltk.stem.porter import *\n",
    "from nltk.corpus import stopwords\n",
    "from time import time\n",
    "from pathlib import Path\n",
    "import pickle\n",
    "import pandas as pd\n",
    "from google.cloud import storage\n",
    "import io\n",
    "import gzip\n",
    "import hashlib\n",
    "def _hash(s):\n",
    "    return hashlib.blake2b(bytes(s, encoding='utf8'), digest_size=5).hexdigest()\n",
    "import numpy as np\n",
    "nltk.download('stopwords')\n",
    "!pip install gcsfs\n",
    "import gcsfs\n",
    "from contextlib import closing"
   ],
   "metadata": {
    "collapsed": false,
    "pycharm": {
     "name": "#%%\n"
    }
   }
  },
  {
   "cell_type": "code",
   "execution_count": null,
   "outputs": [],
   "source": [
    "# if nothing prints here you forgot to include the initialization script when starting the cluster\n",
    "!ls -l /usr/lib/spark/jars/graph*"
   ],
   "metadata": {
    "collapsed": false,
    "pycharm": {
     "name": "#%%\n"
    }
   }
  },
  {
   "cell_type": "code",
   "execution_count": null,
   "outputs": [],
   "source": [
    "from pyspark.sql import *\n",
    "from pyspark.sql.functions import *\n",
    "from pyspark import SparkContext, SparkConf, SparkFiles\n",
    "from pyspark.sql import SQLContext\n",
    "from graphframes import *"
   ],
   "metadata": {
    "collapsed": false,
    "pycharm": {
     "name": "#%%\n"
    }
   }
  },
  {
   "cell_type": "code",
   "execution_count": null,
   "outputs": [],
   "source": [
    "spark"
   ],
   "metadata": {
    "collapsed": false,
    "pycharm": {
     "name": "#%%\n"
    }
   }
  },
  {
   "cell_type": "code",
   "execution_count": null,
   "outputs": [],
   "source": [
    "# Put your bucket name below and make sure you can access it without an error\n",
    "bucket_name = 'ryan316597145' \n",
    "full_path = f\"gs://{bucket_name}/\"\n",
    "paths=[]\n",
    "\n",
    "client = storage.Client()\n",
    "blobs = client.list_blobs(bucket_name)\n",
    "for b in blobs:\n",
    "    if b.name != 'graphframes.sh' and b.name.startswith(\"multi\"):\n",
    "        paths.append(full_path+b.name)\n",
    "        "
   ],
   "metadata": {
    "collapsed": false,
    "pycharm": {
     "name": "#%%\n"
    }
   }
  },
  {
   "cell_type": "markdown",
   "source": [
    "# Building inverted indexes"
   ],
   "metadata": {
    "collapsed": false
   }
  },
  {
   "cell_type": "markdown",
   "source": [
    "Here, we read the entire corpus to an rdd, directly from Google Storage Bucket and use your code from Colab to construct an inverted index."
   ],
   "metadata": {
    "collapsed": false
   }
  },
  {
   "cell_type": "code",
   "execution_count": null,
   "outputs": [],
   "source": [
    "parquetFile = spark.read.parquet(*paths)\n"
   ],
   "metadata": {
    "collapsed": false,
    "pycharm": {
     "name": "#%%\n"
    }
   }
  },
  {
   "cell_type": "code",
   "execution_count": null,
   "outputs": [],
   "source": [
    "# making 3 files relevant for each inverted undex\n",
    "doc_text_pairs = parquetFile.select(\"text\", \"id\").rdd\n",
    "doc_title_pairs = parquetFile.select(\"title\", \"id\").rdd\n",
    "text_pairs = parquetFile.rdd.filter(lambda x: x[3] !=[] and type(x[0]) == int).map(lambda row: (row[3]))\n",
    "#doc_anchor_pairs = parquetFile.rdd.map(lambda row: (row[0],row[3])).flatMapValues(lambda x: (x[0:])).map(lambda x:(x[1][1], (x[0],x[1][0]))) #making list of tuples: [(anchor_text, (source doc_id, dest doc_id))..]\n",
    "#doc_anchor_pairs = parquetFile.rdd.filter(lambda x: x[3] !=[]).map(lambda row: (row[0],row[3])).flatMapValues(lambda x: (x[0:])).filter(lambda x: x[1][0] is not None and type(x[1][0]) != tuple and x[0] is not None and type(x[0]) != tuple).map(lambda x:(x[1][1], (x[0],x[1][0])))"
   ],
   "metadata": {
    "collapsed": false,
    "pycharm": {
     "name": "#%%\n"
    }
   }
  },
  {
   "cell_type": "markdown",
   "source": [
    "We will count the number of pages to make sure we are looking at the entire corpus. The number of pages should be more than 6M"
   ],
   "metadata": {
    "collapsed": false
   }
  },
  {
   "cell_type": "code",
   "execution_count": null,
   "outputs": [],
   "source": [
    "# Count number of wiki pages\n",
    "parquetFile.count()"
   ],
   "metadata": {
    "collapsed": false,
    "pycharm": {
     "name": "#%%\n"
    }
   }
  },
  {
   "cell_type": "markdown",
   "source": [
    "Let's import the inverted index module:"
   ],
   "metadata": {
    "collapsed": false
   }
  },
  {
   "cell_type": "code",
   "execution_count": null,
   "outputs": [],
   "source": [
    "# if nothing prints here you forgot to upload the file inverted_index_gcp.py to the home dir\n",
    "%cd -q /home/dataproc\n",
    "!ls inverted_index_gcp.py"
   ],
   "metadata": {
    "collapsed": false,
    "pycharm": {
     "name": "#%%\n"
    }
   }
  },
  {
   "cell_type": "code",
   "execution_count": null,
   "outputs": [],
   "source": [
    "# adding our python module to the cluster\n",
    "sc.addFile(\"/home/dataproc/inverted_index_gcp.py\")\n",
    "sys.path.insert(0,SparkFiles.getRootDirectory())"
   ],
   "metadata": {
    "collapsed": false,
    "pycharm": {
     "name": "#%%\n"
    }
   }
  },
  {
   "cell_type": "code",
   "execution_count": null,
   "outputs": [],
   "source": [
    "from inverted_index_gcp import InvertedIndex\n",
    "from inverted_index_gcp import MultiFileReader"
   ],
   "metadata": {
    "collapsed": false,
    "pycharm": {
     "name": "#%%\n"
    }
   }
  },
  {
   "cell_type": "markdown",
   "source": [
    "#### Functions used for making inverted indexes"
   ],
   "metadata": {
    "collapsed": false
   }
  },
  {
   "cell_type": "code",
   "execution_count": null,
   "outputs": [],
   "source": [
    "english_stopwords = frozenset(stopwords.words('english'))\n",
    "corpus_stopwords = [\"category\", \"references\", \"also\", \"external\", \"links\", \n",
    "                    \"may\", \"first\", \"see\", \"history\", \"people\", \"one\", \"two\", \n",
    "                    \"part\", \"thumb\", \"including\", \"second\", \"following\", \n",
    "                    \"many\", \"however\", \"would\", \"became\"]\n",
    "\n",
    "all_stopwords = english_stopwords.union(corpus_stopwords)\n",
    "RE_WORD = re.compile(r\"\"\"[\\#\\@\\w](['\\-]?\\w){2,24}\"\"\", re.UNICODE)\n",
    "\n",
    "NUM_BUCKETS = 124\n",
    "def token2bucket_id(token):\n",
    "    return int(_hash(token),16) % NUM_BUCKETS\n",
    "# PLACE YOUR CODE HERE\n",
    "def termcount(text):\n",
    "    tokens = [token.group() for token in RE_WORD.finditer(text.lower())]\n",
    "    filtered = [i for i in tokens if i not in all_stopwords]\n",
    "    counts = Counter(filtered)\n",
    "    return counts.items()\n",
    "\n",
    "def doc_length(text, id):\n",
    "    tokens = [token.group() for token in RE_WORD.finditer(text.lower())]\n",
    "    filtered = [i for i in tokens if i not in all_stopwords]\n",
    "    result = [(id, len(filtered))]\n",
    "    return result\n",
    "\n",
    "def word_count(text, id):\n",
    "    tokens = [token.group() for token in RE_WORD.finditer(text.lower())]\n",
    "    filtered = [i for i in tokens if i not in all_stopwords]\n",
    "    result = [(i[0], (id, i[1])) for i in Counter(filtered).items()]\n",
    "    return result\n",
    "\n",
    "def reduce_word_counts(unsorted_pl):\n",
    "    return sorted(unsorted_pl, key=lambda x: x[0])\n",
    "\n",
    "def calculate_df(postings):\n",
    "    return postings.map(lambda x: (x[0], len(x[1])))\n",
    "\n",
    "# function for every inverted index with different hash values\n",
    "def partition_postings_and_write0(postings):\n",
    "    postingsmap = postings.map(lambda x: (token2bucket_id(x[0]),(x[0], x[1])))\n",
    "    joinlist = postingsmap.groupByKey().mapValues(list)\n",
    "    answer = joinlist.map(lambda x: (InvertedIndex.write_a_posting_list(x, bucket_name, 'body')))\n",
    "    return answer\n",
    "def partition_postings_and_write1(postings):\n",
    "    postingsmap = postings.map(lambda x: (token2bucket_id(x[0])+124,(x[0], x[1])))\n",
    "    joinlist = postingsmap.groupByKey().mapValues(list)\n",
    "    answer = joinlist.map(lambda x: (InvertedIndex.write_a_posting_list(x, bucket_name, 'title')))\n",
    "    return answer\n",
    "def partition_postings_and_write2(postings):\n",
    "    postingsmap = postings.map(lambda x: (token2bucket_id(x[0])+248,(x[0], x[1])))\n",
    "    joinlist = postingsmap.groupByKey().mapValues(list)\n",
    "    answer = joinlist.map(lambda x: (InvertedIndex.write_a_posting_list(x, bucket_name, 'anchor')))\n",
    "    return answer\n",
    "def partition_postings_and_write3(postings):\n",
    "    postingsmap = postings.map(lambda x: (token2bucket_id(x[0])+372,(x[0], x[1])))\n",
    "    joinlist = postingsmap.groupByKey().mapValues(list)\n",
    "    answer = joinlist.map(lambda x: (InvertedIndex.write_a_posting_list(x, bucket_name, 'titlenames')))\n",
    "    return answer"
   ],
   "metadata": {
    "collapsed": false,
    "pycharm": {
     "name": "#%%\n"
    }
   }
  },
  {
   "cell_type": "markdown",
   "source": [
    "### Body Index"
   ],
   "metadata": {
    "collapsed": false
   }
  },
  {
   "cell_type": "code",
   "execution_count": null,
   "outputs": [],
   "source": [
    "## Body Index\n",
    "\n",
    "# time the index creation time\n",
    "t_start = time()\n",
    "# counting the normalizing factor for each doc_id\n",
    "docs_normal = doc_text_pairs.map(lambda x: (x[1], 1/np.sqrt(np.sum([i[1]**2 for i in termcount(x[0])]))))\n",
    "docs_normal_dict = docs_normal.collectAsMap()\n",
    "# docs length map\n",
    "doc_len = doc_text_pairs.flatMap(lambda x: doc_length(x[0], x[1]))\n",
    "doc_length_dict = doc_len.collectAsMap()\n",
    "# word counts map\n",
    "word_counts = doc_text_pairs.flatMap(lambda x: word_count(x[0], x[1]))\n",
    "postings = word_counts.groupByKey().mapValues(reduce_word_counts)\n",
    "# filtering postings and calculate df\n",
    "postings_filtered = postings.filter(lambda x: len(x[1])>50)\n",
    "w2df = calculate_df(postings_filtered)\n",
    "w2df_dict = w2df.collectAsMap()\n",
    "# partition posting lists and write out\n",
    "_ = partition_postings_and_write0(postings_filtered).collect()\n",
    "index_const_time = time() - t_start"
   ],
   "metadata": {
    "collapsed": false,
    "pycharm": {
     "name": "#%%\n"
    }
   }
  },
  {
   "cell_type": "code",
   "execution_count": null,
   "outputs": [],
   "source": [
    "# test index construction time\n",
    "print(\"body index took\", index_const_time)"
   ],
   "metadata": {
    "collapsed": false,
    "pycharm": {
     "name": "#%%\n"
    }
   }
  },
  {
   "cell_type": "code",
   "execution_count": null,
   "outputs": [],
   "source": [
    "# collect all posting lists locations into one super-set\n",
    "super_posting_locs1 = defaultdict(list)\n",
    "for blob in client.list_blobs(bucket_name, prefix='postings_gcp_body'):\n",
    "  if not blob.name.endswith(\"pickle\"):\n",
    "    continue\n",
    "  with blob.open(\"rb\") as f:\n",
    "    posting_locs = pickle.load(f)\n",
    "    for k, v in posting_locs.items():\n",
    "      super_posting_locs1[k].extend(v)"
   ],
   "metadata": {
    "collapsed": false,
    "pycharm": {
     "name": "#%%\n"
    }
   }
  },
  {
   "cell_type": "code",
   "execution_count": null,
   "outputs": [],
   "source": [
    "# Create inverted index instance\n",
    "Body_Index = InvertedIndex('body')\n",
    "# Add docs normalizing factor\n",
    "Body_Index.docs_normal = docs_normal_dict\n",
    "# Adding the posting locations dictionary to the inverted index\n",
    "Body_Index.posting_locs = super_posting_locs1\n",
    "# Add the token - df dictionary to the inverted index\n",
    "Body_Index.df = w2df_dict\n",
    "# Add the total length of each document\n",
    "Body_Index.doc_length = doc_length_dict\n",
    "# Add number of docs in corpus\n",
    "Body_Index.number_of_docs = len(doc_length_dict.keys())\n",
    "# write the global stats out\n",
    "Body_Index.write_index('.', 'Body_Index')\n",
    "# upload to gs\n",
    "index_src = \"Body_Index.pkl\"\n",
    "index_dst = f'gs://{bucket_name}/postings_gcp_body/{index_src}'\n",
    "!gsutil cp $index_src $index_dst"
   ],
   "metadata": {
    "collapsed": false,
    "pycharm": {
     "name": "#%%\n"
    }
   }
  },
  {
   "cell_type": "code",
   "execution_count": null,
   "outputs": [],
   "source": [
    " !gsutil ls -lh $index_dst"
   ],
   "metadata": {
    "collapsed": false,
    "pycharm": {
     "name": "#%%\n"
    }
   }
  },
  {
   "cell_type": "markdown",
   "source": [
    "### Title Index"
   ],
   "metadata": {
    "collapsed": false
   }
  },
  {
   "cell_type": "code",
   "execution_count": null,
   "outputs": [],
   "source": [
    "## Title index\n",
    "\n",
    "# time the index creation time\n",
    "t_start = time()\n",
    "# docs length map\n",
    "doc_len = doc_title_pairs.flatMap(lambda x: doc_length(x[0], x[1]))\n",
    "doc_length_dict = doc_len.collectAsMap()\n",
    "# word counts map\n",
    "word_counts = doc_title_pairs.flatMap(lambda x: word_count(x[0], x[1]))\n",
    "postings = word_counts.groupByKey().mapValues(reduce_word_counts)\n",
    "# not filtering postings and calculate df\n",
    "postings_filtered = postings\n",
    "w2df = calculate_df(postings_filtered)\n",
    "w2df_dict = w2df.collectAsMap()\n",
    "# partition posting lists and write out\n",
    "_ = partition_postings_and_write1(postings_filtered).collect()\n",
    "index_const_time = time() - t_start"
   ],
   "metadata": {
    "collapsed": false,
    "pycharm": {
     "name": "#%%\n"
    }
   }
  },
  {
   "cell_type": "code",
   "execution_count": null,
   "outputs": [],
   "source": [
    "# test index construction time\n",
    "print(\"title index took\", index_const_time)"
   ],
   "metadata": {
    "collapsed": false,
    "pycharm": {
     "name": "#%%\n"
    }
   }
  },
  {
   "cell_type": "code",
   "execution_count": null,
   "outputs": [],
   "source": [
    "# collect all posting lists locations into one super-set\n",
    "super_posting_locs2 = defaultdict(list)\n",
    "for blob in client.list_blobs(bucket_name, prefix='postings_gcp_title'):\n",
    "  if not blob.name.endswith(\"pickle\"):\n",
    "    continue\n",
    "  with blob.open(\"rb\") as f:\n",
    "    posting_locs = pickle.load(f)\n",
    "    for k, v in posting_locs.items():\n",
    "      super_posting_locs2[k].extend(v)"
   ],
   "metadata": {
    "collapsed": false,
    "pycharm": {
     "name": "#%%\n"
    }
   }
  },
  {
   "cell_type": "code",
   "execution_count": null,
   "outputs": [],
   "source": [
    "# Create inverted index instance\n",
    "Title_Index = InvertedIndex('title')\n",
    "# Adding the posting locations dictionary to the inverted index\n",
    "Title_Index.posting_locs = super_posting_locs2\n",
    "# Add the token - df dictionary to the inverted index\n",
    "Title_Index.df = w2df_dict\n",
    "# Add the total length of each document\n",
    "Title_Index.doc_length = doc_length_dict\n",
    "# write the global stats out\n",
    "Title_Index.write_index('.', 'Title_Index')\n",
    "# upload to gs\n",
    "index_src = \"Title_Index.pkl\"\n",
    "index_dst = f'gs://{bucket_name}/postings_gcp_title/{index_src}'\n",
    "!gsutil cp $index_src $index_dst"
   ],
   "metadata": {
    "collapsed": false,
    "pycharm": {
     "name": "#%%\n"
    }
   }
  },
  {
   "cell_type": "code",
   "execution_count": null,
   "outputs": [],
   "source": [
    " !gsutil ls -lh $index_dst"
   ],
   "metadata": {
    "collapsed": false,
    "pycharm": {
     "name": "#%%\n"
    }
   }
  },
  {
   "cell_type": "markdown",
   "source": [
    "### Anchor Index"
   ],
   "metadata": {
    "collapsed": false
   }
  },
  {
   "cell_type": "code",
   "execution_count": null,
   "outputs": [],
   "source": [
    "## Anchor index\n",
    "\n",
    "# time the index creation time\n",
    "t_start = time()\n",
    "anchor_text = text_pairs.flatMap(lambda x: x)\n",
    "anchor_id_text = anchor_text.map(lambda x: (x.text, x.id))\n",
    "# word counts map\n",
    "counts = anchor_id_text.flatMap(lambda x: word_count(x[0], x[1]))\n",
    "postings = counts.groupByKey().mapValues(reduce_word_counts)\n",
    "# Example: [('political', (23040, 1)), ('philosophy', (23040, 1)), ('movement', (99232, 1))]\n",
    "w2df = calculate_df(postings)\n",
    "w2df_dict = w2df.collectAsMap()\n",
    "# partition posting lists and write out\n",
    "_ = partition_postings_and_write2(postings).collect()\n",
    "index_const_time = time() - t_start"
   ],
   "metadata": {
    "collapsed": false,
    "pycharm": {
     "name": "#%%\n"
    }
   }
  },
  {
   "cell_type": "code",
   "execution_count": null,
   "outputs": [],
   "source": [
    "# test index construction time\n",
    "print(\"anchor index took\", index_const_time)"
   ],
   "metadata": {
    "collapsed": false,
    "pycharm": {
     "name": "#%%\n"
    }
   }
  },
  {
   "cell_type": "code",
   "execution_count": null,
   "outputs": [],
   "source": [
    "# collect all posting lists locations into one super-set\n",
    "super_posting_locs3 = defaultdict(list)\n",
    "for blob in client.list_blobs(bucket_name, prefix='postings_gcp_anchor'):\n",
    "  if not blob.name.endswith(\"pickle\"):\n",
    "    continue\n",
    "  with blob.open(\"rb\") as f:\n",
    "    posting_locs = pickle.load(f)\n",
    "    for k, v in posting_locs.items():\n",
    "      super_posting_locs3[k].extend(v)"
   ],
   "metadata": {
    "collapsed": false,
    "pycharm": {
     "name": "#%%\n"
    }
   }
  },
  {
   "cell_type": "code",
   "execution_count": null,
   "outputs": [],
   "source": [
    "# Create inverted index instance\n",
    "Anchor_Index = InvertedIndex('anchor')\n",
    "# Adding the posting locations dictionary to the inverted index\n",
    "Anchor_Index.posting_locs = super_posting_locs3\n",
    "# Add the token - df dictionary to the inverted index\n",
    "Anchor_Index.df = w2df_dict\n",
    "# write the global stats out\n",
    "Anchor_Index.write_index('.', 'Anchor_Index')\n",
    "# upload to gs\n",
    "index_src = \"Anchor_Index.pkl\"\n",
    "index_dst = f'gs://{bucket_name}/postings_gcp_anchor/{index_src}'\n",
    "!gsutil cp $index_src $index_dst"
   ],
   "metadata": {
    "collapsed": false,
    "pycharm": {
     "name": "#%%\n"
    }
   }
  },
  {
   "cell_type": "code",
   "execution_count": null,
   "outputs": [],
   "source": [
    " !gsutil ls -lh $index_dst"
   ],
   "metadata": {
    "collapsed": false,
    "pycharm": {
     "name": "#%%\n"
    }
   }
  },
  {
   "cell_type": "markdown",
   "source": [
    "### Titles Names' Index"
   ],
   "metadata": {
    "collapsed": false
   }
  },
  {
   "cell_type": "code",
   "execution_count": null,
   "outputs": [],
   "source": [
    "## Titles names' index\n",
    "t_start = time()\n",
    "newrdd = parquetFile.rdd\n",
    "keypair_rdd = newrdd.map(lambda x : (x[0],x[1]))\n",
    "parquetFile_dict = keypair_rdd.collectAsMap()\n",
    "index_const_time = time() - t_start"
   ],
   "metadata": {
    "collapsed": false,
    "pycharm": {
     "name": "#%%\n"
    }
   }
  },
  {
   "cell_type": "code",
   "execution_count": null,
   "outputs": [],
   "source": [
    "# test index construction time\n",
    "print(\"docs names' index took\", index_const_time)\n"
   ],
   "metadata": {
    "collapsed": false,
    "pycharm": {
     "name": "#%%\n"
    }
   }
  },
  {
   "cell_type": "code",
   "execution_count": null,
   "outputs": [],
   "source": [
    "# Create inverted index instance\n",
    "TitleNames_Index = InvertedIndex('titlenames')\n",
    "# Add the docs names\n",
    "TitleNames_Index.doc_name = parquetFile_dict\n",
    "# write the global stats out\n",
    "TitleNames_Index.write_index('.', 'TitleNames_Index')\n",
    "# upload to gs\n",
    "index_src = \"TitleNames_Index.pkl\"\n",
    "index_dst = f'gs://{bucket_name}/postings_gcp_titlenames/{index_src}'\n",
    "!gsutil cp $index_src $index_dst"
   ],
   "metadata": {
    "collapsed": false,
    "pycharm": {
     "name": "#%%\n"
    }
   }
  },
  {
   "cell_type": "code",
   "execution_count": null,
   "outputs": [],
   "source": [
    " !gsutil ls -lh $index_dst"
   ],
   "metadata": {
    "collapsed": false,
    "pycharm": {
     "name": "#%%\n"
    }
   }
  },
  {
   "cell_type": "markdown",
   "source": [
    "### Importing the Indexes"
   ],
   "metadata": {
    "collapsed": false
   }
  },
  {
   "cell_type": "code",
   "execution_count": null,
   "outputs": [],
   "source": [
    "# Importing Body Index from Bucket \n",
    "file_name = 'Body_Index.pickle'\n",
    "# Create a GCSFileSystem object\n",
    "fs = gcsfs.GCSFileSystem()\n",
    "# Open the file from the bucket\n",
    "bucket_name = 'ryan316597145'\n",
    "with fs.open(f'gs://ryan316597145/postings_gcp_body/Body_Index.pkl', 'rb') as f:\n",
    "    # Load the pickle file\n",
    "    Body_Index = pickle.load(f)\n",
    "print(Body_Index)"
   ],
   "metadata": {
    "collapsed": false,
    "pycharm": {
     "name": "#%%\n"
    }
   }
  },
  {
   "cell_type": "code",
   "execution_count": null,
   "outputs": [],
   "source": [
    "# Importing Title Index from Bucket \n",
    "file_name = 'Title_Index.pickle'\n",
    "# Create a GCSFileSystem object\n",
    "fs = gcsfs.GCSFileSystem()\n",
    "# Open the file from the bucket\n",
    "bucket_name = 'ryan316597145'\n",
    "with fs.open(f'gs://ryan316597145/postings_gcp_title/Title_Index.pkl', 'rb') as f:\n",
    "    # Load the pickle file\n",
    "    Title_Index = pickle.load(f)\n",
    "print(Title_Index)"
   ],
   "metadata": {
    "collapsed": false,
    "pycharm": {
     "name": "#%%\n"
    }
   }
  },
  {
   "cell_type": "code",
   "execution_count": null,
   "outputs": [],
   "source": [
    "# Importing Anchor Index from Bucket \n",
    "file_name = 'Anchor_Index.pkl'\n",
    "# Create a GCSFileSystem object\n",
    "fs = gcsfs.GCSFileSystem()\n",
    "# Open the file from the bucket\n",
    "bucket_name = 'ryan316597145'\n",
    "with fs.open(f'gs://ryan316597145/postings_gcp_anchor/Anchor_Index.pkl', 'rb') as f:\n",
    "    # Load the pickle file\n",
    "    Anchor_Index = pickle.load(f)\n",
    "print(Anchor_Index)"
   ],
   "metadata": {
    "collapsed": false,
    "pycharm": {
     "name": "#%%\n"
    }
   }
  },
  {
   "cell_type": "code",
   "execution_count": null,
   "outputs": [],
   "source": [
    "# Importing Titles names' Index from Bucket \n",
    "file_name = 'Titlesnames_Index.pickle'\n",
    "# Create a GCSFileSystem object\n",
    "fs = gcsfs.GCSFileSystem()\n",
    "# Open the file from the bucket\n",
    "bucket_name = 'ryan316597145'\n",
    "with fs.open(f'gs://ryan316597145/postings_gcp_titlenames/TitleNames_Index.pkl', 'rb') as f:\n",
    "    # Load the pickle file\n",
    "    Titlesnames_Index = pickle.load(f)\n",
    "print(Titlesnames_Index)"
   ],
   "metadata": {
    "collapsed": false,
    "pycharm": {
     "name": "#%%\n"
    }
   }
  },
  {
   "cell_type": "markdown",
   "source": [
    "### Creating PageRank & PageViews Dictionary"
   ],
   "metadata": {
    "collapsed": false
   }
  },
  {
   "cell_type": "code",
   "execution_count": null,
   "outputs": [],
   "source": [
    "# Create a client to interact with GCP storage\n",
    "client = storage.Client()\n",
    "# Get a reference to the desired bucket\n",
    "bucket = client.get_bucket(\"ryan316597145\")\n",
    "# Get a reference to the desired file\n",
    "blob = bucket.blob(\"pr/part-00000-4e51edea-48bb-4366-97ed-4102b6ea0c7f-c000.csv.gz\")\n",
    "# Download the contents of the file as bytes\n",
    "content = blob.download_as_string()\n",
    "\n",
    "with io.BytesIO(content) as f:\n",
    "    with gzip.GzipFile(fileobj=f) as gz:\n",
    "        content = gz.read().decode()\n",
    "    data = pd.read_csv(io.StringIO(content), header=None, names=[\"id\", \"PageRank\"])\n",
    "\n",
    "PageRank_dict = dict(zip(data.id, data.PageRank))"
   ],
   "metadata": {
    "collapsed": false,
    "pycharm": {
     "name": "#%%\n"
    }
   }
  },
  {
   "cell_type": "code",
   "execution_count": null,
   "outputs": [],
   "source": [
    "# PageViews dictionary\n",
    "\n",
    "# Create a client to interact with GCP storage\n",
    "client = storage.Client()\n",
    "# Get a reference to the desired bucket\n",
    "bucket = client.get_bucket(\"ryan316597145\")\n",
    "# Get a reference to the desired file\n",
    "temp_blob = bucket.blob(\"pageviews/pageviews-202108-user-4dedup.txt\")\n",
    "clean_blob = bucket.blob(\"pageviews/pageviews-202108-user.pkl\")\n",
    "# Download the contents of the file as bytes\n",
    "temp_content = temp_blob.download_as_string()\n",
    "\n",
    "# Create the Counter object\n",
    "wid2pv = Counter()\n",
    "for line in temp_content.decode().split('\\n'):\n",
    "    parts = line.split(' ')\n",
    "    if parts[0] and parts[1]:\n",
    "        wid2pv.update({int(parts[0]): int(parts[1])})\n",
    "\n",
    "# write out the counter as binary file (pickle it)\n",
    "with io.BytesIO() as f:\n",
    "    pickle.dump(wid2pv, f)\n",
    "    f.seek(0)\n",
    "    clean_blob.upload_from_file(f, content_type='application/octet-stream')\n",
    "\n",
    "# read in the counter\n",
    "with io.BytesIO() as f:\n",
    "    clean_blob.download_to_file(f)\n",
    "    f.seek(0)\n",
    "    wid2pv = pickle.load(f)\n",
    "    \n",
    "# the dict name: wid2pv"
   ],
   "metadata": {
    "collapsed": false,
    "pycharm": {
     "name": "#%%\n"
    }
   }
  },
  {
   "cell_type": "markdown",
   "source": [
    "### Creating Association Model"
   ],
   "metadata": {
    "collapsed": false
   }
  },
  {
   "cell_type": "code",
   "execution_count": null,
   "outputs": [],
   "source": [
    "!pip install gensim==3.5.0\n",
    "import gcsfs"
   ],
   "metadata": {
    "collapsed": false,
    "pycharm": {
     "name": "#%%\n"
    }
   }
  },
  {
   "cell_type": "code",
   "execution_count": null,
   "outputs": [],
   "source": [
    "ֳ# word2vec \n",
    "# saving the file\n",
    "from gensim.models import Word2Vec, KeyedVectors   \n",
    "model.wv.save_word2vec_format('model.bin', binary=True)"
   ],
   "metadata": {
    "collapsed": false,
    "pycharm": {
     "name": "#%%\n"
    }
   }
  },
  {
   "cell_type": "code",
   "execution_count": null,
   "outputs": [],
   "source": [
    "# uploading to bucket\n",
    "!gsutil cp model.bin gs://ryan316597145/"
   ],
   "metadata": {
    "collapsed": false,
    "pycharm": {
     "name": "#%%\n"
    }
   }
  },
  {
   "cell_type": "code",
   "execution_count": null,
   "outputs": [],
   "source": [
    "# Uploading the model from bucket\n",
    "storage_client = storage.Client()\n",
    "bucket = storage_client.bucket('ryan316597145')\n",
    "blob = bucket.blob('model.bin')\n",
    "import tempfile\n",
    "with tempfile.NamedTemporaryFile() as temp:\n",
    "    blob.download_to_file(temp)\n",
    "    temp.seek(0)\n",
    "    # Load the word2vec model\n",
    "    from gensim.models import KeyedVectors\n",
    "    newmodel = KeyedVectors.load_word2vec_format(temp.name, binary=True)"
   ],
   "metadata": {
    "collapsed": false,
    "pycharm": {
     "name": "#%%\n"
    }
   }
  },
  {
   "cell_type": "code",
   "execution_count": null,
   "outputs": [],
   "source": [
    "# size of input data\n",
    "!gsutil du -sh \"gs://wikidata_preprocessed/\""
   ],
   "metadata": {
    "collapsed": false,
    "pycharm": {
     "name": "#%%\n"
    }
   }
  },
  {
   "cell_type": "code",
   "execution_count": null,
   "outputs": [],
   "source": [
    "!gsutil du -ch gs://ryan316597145"
   ],
   "metadata": {
    "collapsed": false,
    "pycharm": {
     "name": "#%%\n"
    }
   }
  }
 ],
 "metadata": {
  "celltoolbar": "Create Assignment",
  "colab": {
   "provenance": [],
   "toc_visible": true
  },
  "kernelspec": {
   "display_name": "PySpark",
   "language": "python",
   "name": "pyspark"
  },
  "language_info": {
   "codemirror_mode": {
    "name": "ipython",
    "version": 3
   },
   "file_extension": ".py",
   "mimetype": "text/x-python",
   "name": "python",
   "nbconvert_exporter": "python",
   "pygments_lexer": "ipython3",
   "version": "3.8.15"
  }
 },
 "nbformat": 4,
 "nbformat_minor": 5
}